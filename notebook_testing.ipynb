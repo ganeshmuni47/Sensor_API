{
 "cells": [
  {
   "cell_type": "code",
   "execution_count": 1,
   "id": "fd49d872",
   "metadata": {},
   "outputs": [],
   "source": [
    "import configparser\n",
    "import mysql.connector\n",
    "import base64\n",
    "from sqlalchemy import create_engine\n",
    "from sqlalchemy.engine import URL\n",
    "#import pyaes\n",
    "from sqlalchemy import text"
   ]
  },
  {
   "cell_type": "code",
   "execution_count": 2,
   "id": "43ea4bea",
   "metadata": {},
   "outputs": [],
   "source": [
    "class dbconn:\n",
    "    def mysql(host, port=3306, username=None, password=None, database=None):\n",
    "        connection_string = f\"mysql+mysqlconnector://{username}:{password}@{host}:{port}/{database}\"\n",
    "        engine = create_engine(connection_string)\n",
    "        conn = engine.connect()\n",
    "        print(\"===== Mysql Database Connected =====\")\n",
    "        return conn"
   ]
  },
  {
   "cell_type": "code",
   "execution_count": 96,
   "id": "b868e723",
   "metadata": {},
   "outputs": [],
   "source": [
    "sql1 = \"\"\"select \n",
    "sd.sensor_name,\n",
    "date_format(sf.read_ts,'%Y-%m-%d') as read_date,\n",
    "date_format(sf.read_ts,'%H:%i:%S') as read_time,\n",
    "sf.read_value\n",
    "from sensors_database.sensors_read_f sf,\n",
    "sensors_database.sensors_d sd\n",
    "where sf.sensor_id = sd.sensor_id\"\"\"\n"
   ]
  },
  {
   "cell_type": "code",
   "execution_count": 97,
   "id": "65f525e4",
   "metadata": {},
   "outputs": [],
   "source": [
    "# Database connection details\n",
    "db_hostname = 'localhost'\n",
    "db_port = 3306 # defauls 3306\n",
    "db_username = 'admin'\n",
    "db_password = 'anubhabiitbbsr'\n",
    "db_name = 'sensors_database'\n",
    "\n",
    "def sql_transact(sql_query):\n",
    "    print(sql_query)\n",
    "    conn = dbconn.mysql(host=db_hostname,username=db_username,password=db_password,database=db_name)\n",
    "    cursor = conn.execute(text(sql_query).execution_options(autocommit=True))\n",
    "    conn.commit()\n",
    "    conn.close()\n",
    "    return cursor.rowcount\n",
    "\n",
    "def sql_select(sql_query):\n",
    "    print(sql_query)\n",
    "    conn = dbconn.mysql(host=db_hostname,username=db_username,password=db_password,database=db_name)\n",
    "    cursor = conn.execute(text(sql_query).execution_options(autocommit=True))\n",
    "    data = cursor.fetchall()\n",
    "    return data"
   ]
  },
  {
   "cell_type": "code",
   "execution_count": 98,
   "id": "40b9338c",
   "metadata": {},
   "outputs": [
    {
     "name": "stdout",
     "output_type": "stream",
     "text": [
      "===== Mysql Database Connected =====\n"
     ]
    }
   ],
   "source": [
    "conn = dbconn.mysql(host=db_hostname,username=db_username,password=db_password,database=db_name)\n",
    "cursor = conn.execute(text(sql1).execution_options(autocommit=True))\n",
    "data = cursor.fetchall()\n",
    "keys = list(cursor.keys())"
   ]
  },
  {
   "cell_type": "code",
   "execution_count": 99,
   "id": "c7abd98c",
   "metadata": {},
   "outputs": [
    {
     "data": {
      "text/plain": [
       "[('Test Sensor', '2023-12-26', '17:56:35', 30.1),\n",
       " ('Test Sensor', '2023-12-26', '18:02:50', 30.1),\n",
       " ('Test Sensor', '2023-12-26', '18:09:31', 30.1),\n",
       " ('Test Sensor', '2023-12-26', '18:13:35', 30.1),\n",
       " ('Test Sensor', '2023-12-26', '18:13:41', 30.1),\n",
       " ('Test Sensor', '2023-12-26', '18:13:43', 30.1),\n",
       " ('Test Sensor', '2023-12-26', '18:13:44', 30.1),\n",
       " ('Test Sensor', '2023-12-26', '18:15:12', 30.1),\n",
       " ('Test Sensor', '2023-12-26', '18:15:15', 30.1),\n",
       " ('Test Sensor', '2023-12-26', '18:21:01', 30.1),\n",
       " ('Test Sensor', '2023-12-26', '21:03:37', 30.1)]"
      ]
     },
     "execution_count": 99,
     "metadata": {},
     "output_type": "execute_result"
    }
   ],
   "source": [
    "data"
   ]
  },
  {
   "cell_type": "code",
   "execution_count": 100,
   "id": "a0782d4a",
   "metadata": {},
   "outputs": [
    {
     "data": {
      "text/plain": [
       "['sensor_name', 'read_date', 'read_time', 'read_value']"
      ]
     },
     "execution_count": 100,
     "metadata": {},
     "output_type": "execute_result"
    }
   ],
   "source": [
    "keys"
   ]
  },
  {
   "cell_type": "code",
   "execution_count": 101,
   "id": "ce7c1b49",
   "metadata": {},
   "outputs": [
    {
     "name": "stdout",
     "output_type": "stream",
     "text": [
      "[{'sensor_name': 'Test Sensor', 'read_date': '2023-12-26', 'read_time': '17:56:35', 'read_value': 30.1}, {'sensor_name': 'Test Sensor', 'read_date': '2023-12-26', 'read_time': '18:02:50', 'read_value': 30.1}, {'sensor_name': 'Test Sensor', 'read_date': '2023-12-26', 'read_time': '18:09:31', 'read_value': 30.1}, {'sensor_name': 'Test Sensor', 'read_date': '2023-12-26', 'read_time': '18:13:35', 'read_value': 30.1}, {'sensor_name': 'Test Sensor', 'read_date': '2023-12-26', 'read_time': '18:13:41', 'read_value': 30.1}, {'sensor_name': 'Test Sensor', 'read_date': '2023-12-26', 'read_time': '18:13:43', 'read_value': 30.1}, {'sensor_name': 'Test Sensor', 'read_date': '2023-12-26', 'read_time': '18:13:44', 'read_value': 30.1}, {'sensor_name': 'Test Sensor', 'read_date': '2023-12-26', 'read_time': '18:15:12', 'read_value': 30.1}, {'sensor_name': 'Test Sensor', 'read_date': '2023-12-26', 'read_time': '18:15:15', 'read_value': 30.1}, {'sensor_name': 'Test Sensor', 'read_date': '2023-12-26', 'read_time': '18:21:01', 'read_value': 30.1}, {'sensor_name': 'Test Sensor', 'read_date': '2023-12-26', 'read_time': '21:03:37', 'read_value': 30.1}]\n"
     ]
    }
   ],
   "source": [
    "# Convert results to a list of dictionaries\n",
    "columns = keys\n",
    "result_dicts = [dict(zip(columns, row)) for row in data]\n",
    "\n",
    "# Print the resulting list of dictionaries\n",
    "print(result_dicts)"
   ]
  },
  {
   "cell_type": "code",
   "execution_count": 102,
   "id": "0f90f532",
   "metadata": {},
   "outputs": [],
   "source": [
    "import pandas as pd"
   ]
  },
  {
   "cell_type": "code",
   "execution_count": 105,
   "id": "0a2e4c17",
   "metadata": {},
   "outputs": [],
   "source": [
    "df = pd.DataFrame(result_dicts)\n",
    "\n",
    "html_str = df.to_html(index=False,table_id='aaa')"
   ]
  },
  {
   "cell_type": "code",
   "execution_count": 107,
   "id": "5ed8adab",
   "metadata": {},
   "outputs": [
    {
     "data": {
      "text/html": [
       "<div>\n",
       "<style scoped>\n",
       "    .dataframe tbody tr th:only-of-type {\n",
       "        vertical-align: middle;\n",
       "    }\n",
       "\n",
       "    .dataframe tbody tr th {\n",
       "        vertical-align: top;\n",
       "    }\n",
       "\n",
       "    .dataframe thead th {\n",
       "        text-align: right;\n",
       "    }\n",
       "</style>\n",
       "<table border=\"1\" class=\"dataframe\">\n",
       "  <thead>\n",
       "    <tr style=\"text-align: right;\">\n",
       "      <th></th>\n",
       "      <th>sensor_name</th>\n",
       "      <th>read_date</th>\n",
       "      <th>read_time</th>\n",
       "      <th>read_value</th>\n",
       "    </tr>\n",
       "  </thead>\n",
       "  <tbody>\n",
       "    <tr>\n",
       "      <th>0</th>\n",
       "      <td>Test Sensor</td>\n",
       "      <td>2023-12-26</td>\n",
       "      <td>17:56:35</td>\n",
       "      <td>30.1</td>\n",
       "    </tr>\n",
       "    <tr>\n",
       "      <th>1</th>\n",
       "      <td>Test Sensor</td>\n",
       "      <td>2023-12-26</td>\n",
       "      <td>18:02:50</td>\n",
       "      <td>30.1</td>\n",
       "    </tr>\n",
       "    <tr>\n",
       "      <th>2</th>\n",
       "      <td>Test Sensor</td>\n",
       "      <td>2023-12-26</td>\n",
       "      <td>18:09:31</td>\n",
       "      <td>30.1</td>\n",
       "    </tr>\n",
       "    <tr>\n",
       "      <th>3</th>\n",
       "      <td>Test Sensor</td>\n",
       "      <td>2023-12-26</td>\n",
       "      <td>18:13:35</td>\n",
       "      <td>30.1</td>\n",
       "    </tr>\n",
       "    <tr>\n",
       "      <th>4</th>\n",
       "      <td>Test Sensor</td>\n",
       "      <td>2023-12-26</td>\n",
       "      <td>18:13:41</td>\n",
       "      <td>30.1</td>\n",
       "    </tr>\n",
       "    <tr>\n",
       "      <th>5</th>\n",
       "      <td>Test Sensor</td>\n",
       "      <td>2023-12-26</td>\n",
       "      <td>18:13:43</td>\n",
       "      <td>30.1</td>\n",
       "    </tr>\n",
       "    <tr>\n",
       "      <th>6</th>\n",
       "      <td>Test Sensor</td>\n",
       "      <td>2023-12-26</td>\n",
       "      <td>18:13:44</td>\n",
       "      <td>30.1</td>\n",
       "    </tr>\n",
       "    <tr>\n",
       "      <th>7</th>\n",
       "      <td>Test Sensor</td>\n",
       "      <td>2023-12-26</td>\n",
       "      <td>18:15:12</td>\n",
       "      <td>30.1</td>\n",
       "    </tr>\n",
       "    <tr>\n",
       "      <th>8</th>\n",
       "      <td>Test Sensor</td>\n",
       "      <td>2023-12-26</td>\n",
       "      <td>18:15:15</td>\n",
       "      <td>30.1</td>\n",
       "    </tr>\n",
       "    <tr>\n",
       "      <th>9</th>\n",
       "      <td>Test Sensor</td>\n",
       "      <td>2023-12-26</td>\n",
       "      <td>18:21:01</td>\n",
       "      <td>30.1</td>\n",
       "    </tr>\n",
       "    <tr>\n",
       "      <th>10</th>\n",
       "      <td>Test Sensor</td>\n",
       "      <td>2023-12-26</td>\n",
       "      <td>21:03:37</td>\n",
       "      <td>30.1</td>\n",
       "    </tr>\n",
       "  </tbody>\n",
       "</table>\n",
       "</div>"
      ],
      "text/plain": [
       "    sensor_name   read_date read_time  read_value\n",
       "0   Test Sensor  2023-12-26  17:56:35        30.1\n",
       "1   Test Sensor  2023-12-26  18:02:50        30.1\n",
       "2   Test Sensor  2023-12-26  18:09:31        30.1\n",
       "3   Test Sensor  2023-12-26  18:13:35        30.1\n",
       "4   Test Sensor  2023-12-26  18:13:41        30.1\n",
       "5   Test Sensor  2023-12-26  18:13:43        30.1\n",
       "6   Test Sensor  2023-12-26  18:13:44        30.1\n",
       "7   Test Sensor  2023-12-26  18:15:12        30.1\n",
       "8   Test Sensor  2023-12-26  18:15:15        30.1\n",
       "9   Test Sensor  2023-12-26  18:21:01        30.1\n",
       "10  Test Sensor  2023-12-26  21:03:37        30.1"
      ]
     },
     "execution_count": 107,
     "metadata": {},
     "output_type": "execute_result"
    }
   ],
   "source": [
    "df"
   ]
  },
  {
   "cell_type": "code",
   "execution_count": 118,
   "id": "e7735aea",
   "metadata": {},
   "outputs": [],
   "source": [
    "df.columns = [items.upper() for items in list(df.columns)]"
   ]
  },
  {
   "cell_type": "code",
   "execution_count": 119,
   "id": "43298c0b",
   "metadata": {},
   "outputs": [
    {
     "data": {
      "text/plain": [
       "Index(['SENSOR_NAME', 'READ_DATE', 'READ_TIME', 'READ_VALUE'], dtype='object')"
      ]
     },
     "execution_count": 119,
     "metadata": {},
     "output_type": "execute_result"
    }
   ],
   "source": [
    "df.columns"
   ]
  },
  {
   "cell_type": "code",
   "execution_count": null,
   "id": "1dbbee60",
   "metadata": {},
   "outputs": [],
   "source": []
  }
 ],
 "metadata": {
  "kernelspec": {
   "display_name": "Python 3 (ipykernel)",
   "language": "python",
   "name": "python3"
  },
  "language_info": {
   "codemirror_mode": {
    "name": "ipython",
    "version": 3
   },
   "file_extension": ".py",
   "mimetype": "text/x-python",
   "name": "python",
   "nbconvert_exporter": "python",
   "pygments_lexer": "ipython3",
   "version": "3.11.5"
  }
 },
 "nbformat": 4,
 "nbformat_minor": 5
}

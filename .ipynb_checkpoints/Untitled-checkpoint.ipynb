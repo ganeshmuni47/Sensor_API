{
 "cells": [
  {
   "cell_type": "code",
   "execution_count": 1,
   "id": "75560a74",
   "metadata": {},
   "outputs": [],
   "source": [
    "import configparser\n",
    "import mysql.connector\n",
    "import base64\n",
    "from sqlalchemy import create_engine\n",
    "from sqlalchemy.engine import URL\n",
    "#import pyaes\n",
    "from sqlalchemy import text"
   ]
  },
  {
   "cell_type": "code",
   "execution_count": 2,
   "id": "665f9cae",
   "metadata": {},
   "outputs": [],
   "source": [
    "class dbconn:\n",
    "    def mysql(host, port=3306, username=None, password=None, database=None):\n",
    "        connection_string = f\"mysql+mysqlconnector://{username}:{password}@{host}:{port}/{database}\"\n",
    "        engine = create_engine(connection_string)\n",
    "        conn = engine.connect()\n",
    "        print(\"===== Mysql Database Connected =====\")\n",
    "        return conn"
   ]
  },
  {
   "cell_type": "code",
   "execution_count": 81,
   "id": "b868e723",
   "metadata": {},
   "outputs": [],
   "source": [
    "sql1 = \"\"\"select \n",
    "sd.sensor_name,\n",
    "date_format(sf.read_ts,'%Y-%m-%d') as read_date,\n",
    "date_format(sf.read_ts,'%H:%i:%S') as read_time,\n",
    "/*date_format(sf.read_ts,'%Y-%m-%d %H:%i:%S')as read_ts,*/\n",
    "sf.read_value\n",
    "from sensors_database.sensors_read_f sf,\n",
    "sensors_database.sensors_d sd\n",
    "where sf.sensor_id = sd.sensor_id\"\"\"\n"
   ]
  },
  {
   "cell_type": "code",
   "execution_count": 82,
   "id": "65f525e4",
   "metadata": {},
   "outputs": [],
   "source": [
    "# Database connection details\n",
    "db_hostname = 'localhost'\n",
    "db_port = 3306 # defauls 3306\n",
    "db_username = 'admin'\n",
    "db_password = 'anubhabiitbbsr'\n",
    "db_name = 'sensors_database'\n",
    "\n",
    "def sql_transact(sql_query):\n",
    "    print(sql_query)\n",
    "    conn = dbconn.mysql(host=db_hostname,username=db_username,password=db_password,database=db_name)\n",
    "    cursor = conn.execute(text(sql_query).execution_options(autocommit=True))\n",
    "    conn.commit()\n",
    "    conn.close()\n",
    "    return cursor.rowcount\n",
    "\n",
    "def sql_select(sql_query):\n",
    "    print(sql_query)\n",
    "    conn = dbconn.mysql(host=db_hostname,username=db_username,password=db_password,database=db_name)\n",
    "    cursor = conn.execute(text(sql_query).execution_options(autocommit=True))\n",
    "    data = cursor.fetchall()\n",
    "    return data"
   ]
  },
  {
   "cell_type": "code",
   "execution_count": 83,
   "id": "541c128e",
   "metadata": {},
   "outputs": [
    {
     "name": "stdout",
     "output_type": "stream",
     "text": [
      "===== Mysql Database Connected =====\n"
     ]
    }
   ],
   "source": [
    "conn = dbconn.mysql(host=db_hostname,username=db_username,password=db_password,database=db_name)\n",
    "cursor = conn.execute(text(sql1).execution_options(autocommit=True))\n",
    "data = cursor.fetchall()\n",
    "keys = list(cursor.keys())"
   ]
  },
  {
   "cell_type": "code",
   "execution_count": 84,
   "id": "f10dfccf",
   "metadata": {},
   "outputs": [
    {
     "data": {
      "text/plain": [
       "[('Test Sensor', '2023-12-26', '17:56:35', 30.1),\n",
       " ('Test Sensor', '2023-12-26', '18:02:50', 30.1),\n",
       " ('Test Sensor', '2023-12-26', '18:09:31', 30.1),\n",
       " ('Test Sensor', '2023-12-26', '18:13:35', 30.1),\n",
       " ('Test Sensor', '2023-12-26', '18:13:41', 30.1),\n",
       " ('Test Sensor', '2023-12-26', '18:13:43', 30.1),\n",
       " ('Test Sensor', '2023-12-26', '18:13:44', 30.1),\n",
       " ('Test Sensor', '2023-12-26', '18:15:12', 30.1),\n",
       " ('Test Sensor', '2023-12-26', '18:15:15', 30.1),\n",
       " ('Test Sensor', '2023-12-26', '18:21:01', 30.1)]"
      ]
     },
     "execution_count": 84,
     "metadata": {},
     "output_type": "execute_result"
    }
   ],
   "source": [
    "data"
   ]
  },
  {
   "cell_type": "code",
   "execution_count": 85,
   "id": "9d558614",
   "metadata": {},
   "outputs": [
    {
     "data": {
      "text/plain": [
       "['sensor_name', 'read_date', 'read_time', 'read_value']"
      ]
     },
     "execution_count": 85,
     "metadata": {},
     "output_type": "execute_result"
    }
   ],
   "source": [
    "keys"
   ]
  },
  {
   "cell_type": "code",
   "execution_count": 86,
   "id": "5ee5a9fe",
   "metadata": {},
   "outputs": [
    {
     "name": "stdout",
     "output_type": "stream",
     "text": [
      "[{'sensor_name': 'Test Sensor', 'read_date': '2023-12-26', 'read_time': '17:56:35', 'read_value': 30.1}, {'sensor_name': 'Test Sensor', 'read_date': '2023-12-26', 'read_time': '18:02:50', 'read_value': 30.1}, {'sensor_name': 'Test Sensor', 'read_date': '2023-12-26', 'read_time': '18:09:31', 'read_value': 30.1}, {'sensor_name': 'Test Sensor', 'read_date': '2023-12-26', 'read_time': '18:13:35', 'read_value': 30.1}, {'sensor_name': 'Test Sensor', 'read_date': '2023-12-26', 'read_time': '18:13:41', 'read_value': 30.1}, {'sensor_name': 'Test Sensor', 'read_date': '2023-12-26', 'read_time': '18:13:43', 'read_value': 30.1}, {'sensor_name': 'Test Sensor', 'read_date': '2023-12-26', 'read_time': '18:13:44', 'read_value': 30.1}, {'sensor_name': 'Test Sensor', 'read_date': '2023-12-26', 'read_time': '18:15:12', 'read_value': 30.1}, {'sensor_name': 'Test Sensor', 'read_date': '2023-12-26', 'read_time': '18:15:15', 'read_value': 30.1}, {'sensor_name': 'Test Sensor', 'read_date': '2023-12-26', 'read_time': '18:21:01', 'read_value': 30.1}]\n"
     ]
    }
   ],
   "source": [
    "# Convert results to a list of dictionaries\n",
    "columns = keys\n",
    "result_dicts = [dict(zip(columns, row)) for row in data]\n",
    "\n",
    "# Print the resulting list of dictionaries\n",
    "print(result_dicts)"
   ]
  },
  {
   "cell_type": "code",
   "execution_count": 87,
   "id": "517b2834",
   "metadata": {},
   "outputs": [],
   "source": [
    "import pandas as pd"
   ]
  },
  {
   "cell_type": "code",
   "execution_count": 91,
   "id": "a9545bae",
   "metadata": {},
   "outputs": [],
   "source": [
    "df = pd.DataFrame(result_dicts)"
   ]
  },
  {
   "cell_type": "code",
   "execution_count": null,
   "id": "44a14c37",
   "metadata": {},
   "outputs": [],
   "source": [
    "df.to_html(index=False,table_id='')"
   ]
  },
  {
   "cell_type": "code",
   "execution_count": null,
   "id": "fb5e8e42",
   "metadata": {},
   "outputs": [],
   "source": []
  }
 ],
 "metadata": {
  "kernelspec": {
   "display_name": "Python 3 (ipykernel)",
   "language": "python",
   "name": "python3"
  },
  "language_info": {
   "codemirror_mode": {
    "name": "ipython",
    "version": 3
   },
   "file_extension": ".py",
   "mimetype": "text/x-python",
   "name": "python",
   "nbconvert_exporter": "python",
   "pygments_lexer": "ipython3",
   "version": "3.11.5"
  }
 },
 "nbformat": 4,
 "nbformat_minor": 5
}
